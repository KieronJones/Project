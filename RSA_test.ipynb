{
 "cells": [
  {
   "cell_type": "code",
   "execution_count": 1,
   "metadata": {},
   "outputs": [],
   "source": [
    "from RSA import generate_rsa_keys, rsa_encrypt, rsa_decrypt\n",
    "from RSA_with_blinding import secure_decrypt"
   ]
  },
  {
   "cell_type": "code",
   "execution_count": 2,
   "metadata": {},
   "outputs": [
    {
     "name": "stdout",
     "output_type": "stream",
     "text": [
      "{'n': 12631647945787648240491092886454319047381164982844255785702758217439667599267230382495770790222204557147593597727055549411266774404293838435274654145417716492181364457075270726844839929472646666281553202096796262384628842271457423973834070190858767061369418995973759966193231699744874661701897533354327098586467872747361866952721244725739834749011487752086999504647020219697860576231272990180524068173171891134760121111483235780203946416523988426657097670656816978576830547526179732867474381876947065326500774498831055027478200364853071541861655081691079583905931749556736870164459462305009294839448411250824008468007, 'e': 65537}\n"
     ]
    }
   ],
   "source": [
    "public_key, private_key = generate_rsa_keys(2048)\n"
   ]
  },
  {
   "cell_type": "code",
   "execution_count": 39,
   "metadata": {},
   "outputs": [
    {
     "name": "stdout",
     "output_type": "stream",
     "text": [
      "Origional Plaintext: I am gonna get a first class degree\n"
     ]
    }
   ],
   "source": [
    "plaintext = \"I am gonna get a first class degree\"\n",
    "\n",
    "plaintext_bytes = plaintext.encode('utf-8')\n",
    "plaintext_int = int.from_bytes(plaintext_bytes, 'big')\n",
    "print(f\"Origional Plaintext: {plaintext}\")"
   ]
  },
  {
   "cell_type": "code",
   "execution_count": 40,
   "metadata": {},
   "outputs": [
    {
     "name": "stdout",
     "output_type": "stream",
     "text": [
      "Encrypted Message: 6933833233342334191460984549197446615071114968007018931577182262493237074673932822313250120042946502184281415263814103190135615673950882089192139484594208950804364432515074804322895353899231972055261658136445952890392506018152652888255117999800278778332018862369657985532778734855011537000622760161798495833253128277076994243497917863577502059391341119623314454950888197821388452587402949088487508501780319322563153237242996205751188567724425976758745433135931094303361126929925996554565913902845419960251948984717320700699149338899552969622114456085557201884869624804153810673805907330558246590074071074929047486656\n"
     ]
    }
   ],
   "source": [
    "# Encrypt the message\n",
    "encrypted_message = rsa_encrypt(public_key, plaintext_int)\n",
    "print(f\"Encrypted Message: {encrypted_message}\")"
   ]
  },
  {
   "cell_type": "code",
   "execution_count": 41,
   "metadata": {},
   "outputs": [
    {
     "name": "stdout",
     "output_type": "stream",
     "text": [
      "Decrypted Message: 554924026285784655029747437552945380821732126876951631953937309922156113879853327717\n",
      "Decrypted Message with secure RSA: 554924026285784655029747437552945380821732126876951631953937309922156113879853327717\n"
     ]
    }
   ],
   "source": [
    "# Decrypt the message\n",
    "decrypted_message = rsa_decrypt(private_key, encrypted_message)\n",
    "print(f\"Decrypted Message: {decrypted_message}\")\n",
    "\n",
    "secure_decrypted_message = secure_decrypt(encrypted_message, private_key, public_key)\n",
    "print(f\"Decrypted Message with secure RSA: {secure_decrypted_message}\")"
   ]
  },
  {
   "cell_type": "code",
   "execution_count": 42,
   "metadata": {},
   "outputs": [
    {
     "name": "stdout",
     "output_type": "stream",
     "text": [
      "Decrypted Plaintext: I am gonna get a first class degree\n",
      "Decrypted Plaintext with secure RSA: I am gonna get a first class degree\n"
     ]
    }
   ],
   "source": [
    "message_bytes = decrypted_message.to_bytes((decrypted_message.bit_length() + 7) // 8, 'big')\n",
    "decrypted_plaintext = message_bytes.decode('utf-8')\n",
    "print(f\"Decrypted Plaintext: {decrypted_plaintext}\")\n",
    "\n",
    "message_bytes_secure = secure_decrypted_message.to_bytes((secure_decrypted_message.bit_length() + 7) // 8, 'big')\n",
    "secure_decrypted_plaintext = message_bytes_secure.decode('utf-8')\n",
    "print(f\"Decrypted Plaintext with secure RSA: {secure_decrypted_plaintext}\")"
   ]
  },
  {
   "cell_type": "code",
   "execution_count": 43,
   "metadata": {},
   "outputs": [
    {
     "name": "stdout",
     "output_type": "stream",
     "text": [
      "Standard RSA encryption and decryption verification successful.\n",
      "Secure RSA encryption and decryption verification successful.\n"
     ]
    }
   ],
   "source": [
    "# Verify the RSA encryption and decryption\n",
    "assert plaintext == decrypted_plaintext, \"The standard RSA encryption and decryption did not work as expected.\"\n",
    "print(\"Standard RSA encryption and decryption verification successful.\")\n",
    "\n",
    "assert plaintext == secure_decrypted_plaintext, \"The secure RSA encryption and decryption did not work as expected.\"\n",
    "print(\"Secure RSA encryption and decryption verification successful.\")"
   ]
  }
 ],
 "metadata": {
  "kernelspec": {
   "display_name": "Python 3",
   "language": "python",
   "name": "python3"
  },
  "language_info": {
   "codemirror_mode": {
    "name": "ipython",
    "version": 3
   },
   "file_extension": ".py",
   "mimetype": "text/x-python",
   "name": "python",
   "nbconvert_exporter": "python",
   "pygments_lexer": "ipython3",
   "version": "3.9.2"
  }
 },
 "nbformat": 4,
 "nbformat_minor": 2
}
