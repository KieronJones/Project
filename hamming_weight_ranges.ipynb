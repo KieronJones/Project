{
 "cells": [
  {
   "cell_type": "markdown",
   "metadata": {},
   "source": [
    "Experiment to demonstrate information leakage of RSA algorithm"
   ]
  },
  {
   "cell_type": "code",
   "execution_count": 11,
   "metadata": {},
   "outputs": [],
   "source": [
    "from RSA import rsa_decrypt, rsa_encrypt\n",
    "from Crypto.Util.number import bytes_to_long\n",
    "from Crypto.Random import get_random_bytes\n",
    "import time\n",
    "import json\n",
    "import matplotlib.pyplot as plt\n",
    "import seaborn as sns\n",
    "import numpy as np\n",
    "import pandas as pd\n",
    "import scipy.stats as stats"
   ]
  },
  {
   "cell_type": "code",
   "execution_count": 12,
   "metadata": {},
   "outputs": [],
   "source": [
    "# Function modified to include printing category splits by percentage\n",
    "def categorise_keys(file_path):\n",
    "    with open(file_path, 'r') as f:\n",
    "        keys_data = json.load(f)\n",
    "\n",
    "    # Calculate hamming weight percentage and keep track of each key and its percentage\n",
    "    keys_with_percentages = []\n",
    "    for key in keys_data:\n",
    "        d = int(key['private_key']['d'])\n",
    "        hw = bin(d).count('1')\n",
    "        total_bits = d.bit_length()\n",
    "        percentage = (hw / total_bits) * 100\n",
    "        keys_with_percentages.append((key, percentage))\n",
    "    \n",
    "    # Sort the keys by their Hamming weight percentage\n",
    "    keys_with_percentages.sort(key=lambda x: x[1])\n",
    "\n",
    "    # Calculate the size of each category\n",
    "    category_size = len(keys_with_percentages) // 3\n",
    "\n",
    "    # Initialize categories\n",
    "    categories = {'Low': [], 'Medium': [], 'High': []}\n",
    "\n",
    "    # Evenly distribute the keys into the three categories\n",
    "    for i, (key, percentage) in enumerate(keys_with_percentages):\n",
    "        if i < category_size:\n",
    "            categories['Low'].append((key, percentage))\n",
    "        elif i < 2 * category_size:\n",
    "            categories['Medium'].append((key, percentage))\n",
    "        else:\n",
    "            categories['High'].append((key, percentage))\n",
    "\n",
    "    return categories\n",
    "\n",
    "file_path = 'rsa_keys.json'\n",
    "categories = categorise_keys(file_path)\n",
    "\n",
    "\n",
    "\n"
   ]
  },
  {
   "cell_type": "code",
   "execution_count": 13,
   "metadata": {},
   "outputs": [
    {
     "name": "stdout",
     "output_type": "stream",
     "text": [
      "Low: 333 keys\n",
      "  Range: 45.43% to 49.51%\n",
      "Medium: 333 keys\n",
      "  Range: 49.51% to 50.46%\n",
      "High: 334 keys\n",
      "  Range: 50.46% to 53.30%\n"
     ]
    }
   ],
   "source": [
    "# Printing category sizes and percentage ranges\n",
    "for category in categories:\n",
    "    print(f\"{category}: {len(categories[category])} keys\")\n",
    "    if categories[category]:\n",
    "        percentages = [percentage for _, percentage in categories[category]]\n",
    "        print(f\"  Range: {min(percentages):.2f}% to {max(percentages):.2f}%\")"
   ]
  },
  {
   "cell_type": "code",
   "execution_count": 14,
   "metadata": {},
   "outputs": [],
   "source": [
    "def collect_timing_data_for_categories(categories, num_messages=2, message_length=256):\n",
    "    timing_data = {category: [] for category in categories}\n",
    "\n",
    "    for category, items in categories.items():\n",
    "        for item in items:\n",
    "            public_key, private_key = item[0]['public_key'], item[0]['private_key']\n",
    "            for _ in range(num_messages):\n",
    "                message_bytes = get_random_bytes(message_length)  # Generate message as bytes\n",
    "                message_int = bytes_to_long(message_bytes)  # Convert message to integer\n",
    "                ciphertext = rsa_encrypt(public_key, message_int)  # Encrypt the integer message\n",
    "            \n",
    "                start = time.perf_counter()\n",
    "                rsa_decrypt(private_key, ciphertext)\n",
    "                end = time.perf_counter()\n",
    "            \n",
    "                decryption_time = end - start\n",
    "                timing_data[category].append(decryption_time)\n",
    "    \n",
    "    return timing_data\n",
    "\n",
    "timing_data = collect_timing_data_for_categories(categories)\n"
   ]
  },
  {
   "cell_type": "code",
   "execution_count": 15,
   "metadata": {},
   "outputs": [
    {
     "name": "stdout",
     "output_type": "stream",
     "text": [
      "Mean decryption times by Hamming weight: {'High': 1.3658511509101972, 'Low': 1.3426166983122554, 'Medium': 1.3540454836877218}\n"
     ]
    }
   ],
   "source": [
    "# Convert the timing results to a format suitable for analysis and plotting\n",
    "timings = []\n",
    "weights = []\n",
    "for hw, times in timing_data.items():\n",
    "    timings.extend(times)\n",
    "    weights.extend([hw] * len(times))\n",
    "\n",
    "data = pd.DataFrame({\n",
    "    'Decryption Time': timings,\n",
    "    'Hamming Weight': weights\n",
    "})\n",
    "\n",
    "\n",
    "timings = np.array(timings)\n",
    "weights = np.array(weights)\n",
    "\n",
    "# Conduct basic statistical analysis\n",
    "unique_weights = np.unique(weights)\n",
    "mean_times = {weight: np.mean(timings[weights == weight]) for weight in unique_weights}\n",
    "print(\"Mean decryption times by Hamming weight:\", mean_times)"
   ]
  },
  {
   "cell_type": "code",
   "execution_count": 16,
   "metadata": {},
   "outputs": [
    {
     "name": "stdout",
     "output_type": "stream",
     "text": [
      "Kruskal-Wallis H-test results: H-value = 743.8083635167227 P-value = 3.0483586757558526e-162\n",
      "The differences between the groups are statistically significant.\n"
     ]
    }
   ],
   "source": [
    "low_times = data[data['Hamming Weight'] == 'Low']['Decryption Time']\n",
    "medium_times = data[data['Hamming Weight'] == 'Medium']['Decryption Time']\n",
    "high_times = data[data['Hamming Weight'] == 'High']['Decryption Time']\n",
    "\n",
    "# Kruskal-Wallis H-test\n",
    "h_value, p_value = stats.kruskal(low_times, medium_times, high_times)\n",
    "\n",
    "print('Kruskal-Wallis H-test results: H-value =', h_value, 'P-value =', p_value)\n",
    "\n",
    "if p_value < 0.05:\n",
    "    print(\"The differences between the groups are statistically significant.\")\n",
    "else:\n",
    "    print(\"The differences between the groups are not statistically significant.\")"
   ]
  },
  {
   "cell_type": "code",
   "execution_count": null,
   "metadata": {},
   "outputs": [],
   "source": [
    "plt.figure(figsize=(12, 6))\n",
    "sns.kdeplot(\n",
    "    data=data, \n",
    "    x='Decryption Time', \n",
    "    hue='Hamming Weight', \n",
    "    common_norm=False, \n",
    "    palette=\"coolwarm\", \n",
    "    fill=True,\n",
    "    bw_adjust=1\n",
    ")\n",
    "plt.xlim(1.25, 1.4)  # Set the x-axis limits to focus on the relevant range\n",
    "plt.title('Conditional Distributions of RSA Decryption Times Across Keys with Grouped Hamming Weights')\n",
    "plt.xlabel('Decryption Time (seconds)')\n",
    "plt.ylabel('Density')\n",
    "plt.show()\n"
   ]
  },
  {
   "cell_type": "code",
   "execution_count": 23,
   "metadata": {},
   "outputs": [
    {
     "data": {
      "image/png": "[encoded data removed]",
      "text/plain": [
       "<Figure size 1000x600 with 1 Axes>"
      ]
     },
     "metadata": {},
     "output_type": "display_data"
    }
   ],
   "source": [
    "plt.figure(figsize=(10, 6))\n",
    "sns.boxplot(x='Hamming Weight', y='Decryption Time', data=data)\n",
    "\n",
    "plt.title('RSA Decryption Times Across Different Hamming Weights')\n",
    "plt.xlabel('Hamming Weight')\n",
    "plt.ylabel('Decryption Time (seconds)')\n",
    "plt.ylim(1.3, 1.5)\n",
    "\n",
    "plt.show()"
   ]
  }
 ],
 "metadata": {
  "kernelspec": {
   "display_name": "Python 3",
   "language": "python",
   "name": "python3"
  },
  "language_info": {
   "codemirror_mode": {
    "name": "ipython",
    "version": 3
   },
   "file_extension": ".py",
   "mimetype": "text/x-python",
   "name": "python",
   "nbconvert_exporter": "python",
   "pygments_lexer": "ipython3",
   "version": "3.9.2"
  }
 },
 "nbformat": 4,
 "nbformat_minor": 2
}
